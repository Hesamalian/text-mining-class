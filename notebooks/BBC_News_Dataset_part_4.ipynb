{
 "cells": [
  {
   "cell_type": "markdown",
   "metadata": {},
   "source": [
    "# Text Mining of BBC News Data\n",
    "\n",
    "## Part 4: Similarity and Visualization in Latent Space"
   ]
  },
  {
   "cell_type": "code",
   "execution_count": null,
   "metadata": {},
   "outputs": [],
   "source": [
    "from pathlib import Path\n",
    "import numpy as np\n",
    "\n",
    "text_filepaths = sorted(Path(\"bbc\").glob(\"*/*.txt\"))\n",
    "categories = np.array([p.parent.name for p in text_filepaths])"
   ]
  },
  {
   "cell_type": "code",
   "execution_count": null,
   "metadata": {},
   "outputs": [],
   "source": [
    "from sklearn.feature_extraction.text import TfidfVectorizer\n",
    "\n",
    "\n",
    "tfidf_vectorizer = TfidfVectorizer(\n",
    "    input=\"filename\", encoding=\"utf-8\", decode_error=\"ignore\",\n",
    "    min_df=5, max_df=0.8)\n",
    "\n",
    "tfidf_docs = tfidf_vectorizer.fit_transform(text_filepaths)"
   ]
  },
  {
   "cell_type": "code",
   "execution_count": null,
   "metadata": {},
   "outputs": [],
   "source": [
    "from sklearn.decomposition import TruncatedSVD\n",
    "\n",
    "svd = TruncatedSVD(n_components=50).fit(tfidf_docs)"
   ]
  },
  {
   "cell_type": "code",
   "execution_count": null,
   "metadata": {},
   "outputs": [],
   "source": [
    "svd.explained_variance_"
   ]
  },
  {
   "cell_type": "code",
   "execution_count": null,
   "metadata": {},
   "outputs": [],
   "source": [
    "%matplotlib inline\n",
    "import matplotlib.pyplot as plt\n",
    "\n",
    "plt.plot(svd.explained_variance_ratio_);"
   ]
  },
  {
   "cell_type": "code",
   "execution_count": null,
   "metadata": {},
   "outputs": [],
   "source": [
    "svd_docs = svd.transform(tfidf_docs)"
   ]
  },
  {
   "cell_type": "code",
   "execution_count": null,
   "metadata": {},
   "outputs": [],
   "source": [
    "plt.scatter(svd_docs[:, 0], svd_docs[:, 1]);"
   ]
  },
  {
   "cell_type": "code",
   "execution_count": null,
   "metadata": {},
   "outputs": [],
   "source": [
    "plt.scatter(svd_docs[:, 1], svd_docs[:, 2]);"
   ]
  },
  {
   "cell_type": "code",
   "execution_count": null,
   "metadata": {},
   "outputs": [],
   "source": [
    "np.unique(categories)"
   ]
  },
  {
   "cell_type": "code",
   "execution_count": null,
   "metadata": {},
   "outputs": [],
   "source": [
    "for c in np.unique(categories):\n",
    "    mask = categories == c\n",
    "    plt.scatter(svd_docs[mask, 0], svd_docs[mask, 1], label=c)\n",
    "plt.legend();"
   ]
  },
  {
   "cell_type": "code",
   "execution_count": null,
   "metadata": {},
   "outputs": [],
   "source": [
    "for c in np.unique(categories):\n",
    "    mask = categories == c\n",
    "    plt.scatter(svd_docs[mask, 1], svd_docs[mask, 2], label=c)\n",
    "\n",
    "plt.legend();"
   ]
  },
  {
   "cell_type": "code",
   "execution_count": null,
   "metadata": {},
   "outputs": [],
   "source": [
    "for c in np.unique(categories):\n",
    "    mask = categories == c\n",
    "    plt.scatter(svd_docs[mask, 2], svd_docs[mask, 3], label=c)\n",
    "\n",
    "plt.legend();"
   ]
  },
  {
   "cell_type": "markdown",
   "metadata": {},
   "source": [
    "## Visualization of KMeans Centers and NMF Topics in SVD and TSNE Space"
   ]
  },
  {
   "cell_type": "code",
   "execution_count": null,
   "metadata": {},
   "outputs": [],
   "source": [
    "from sklearn.cluster import KMeans\n",
    "\n",
    "kmeans_predictions = KMeans(n_clusters=5).fit_predict(svd_docs)"
   ]
  },
  {
   "cell_type": "code",
   "execution_count": null,
   "metadata": {},
   "outputs": [],
   "source": [
    "for c in np.unique(kmeans_predictions):\n",
    "    mask = kmeans_predictions == c\n",
    "    plt.scatter(svd_docs[mask, 2], svd_docs[mask, 3], label=c)\n",
    "\n",
    "plt.legend();"
   ]
  },
  {
   "cell_type": "code",
   "execution_count": null,
   "metadata": {},
   "outputs": [],
   "source": [
    "from sklearn.decomposition import NMF"
   ]
  },
  {
   "cell_type": "code",
   "execution_count": null,
   "metadata": {},
   "outputs": [],
   "source": [
    "nmf = NMF(n_components=10).fit(tfidf_docs)\n",
    "nmf_docs = nmf.transform(tfidf_docs)\n",
    "\n",
    "nmf_docs /= nmf_docs.max()\n",
    "rgba_colors = np.zeros((nmf_docs.shape[0], 4))\n",
    "rgba_colors[:, 2] = 1.0\n",
    "\n",
    "for topic in range(nmf_docs.shape[1]):\n",
    "    plt.figure()\n",
    "    rgba_colors[:, 3] = nmf_docs[:, topic] # alpha channel\n",
    "    plt.scatter(svd_docs[:, 2], svd_docs[:, 3], color=rgba_colors)\n",
    "    plt.title(f\"Topic #{topic}\")"
   ]
  },
  {
   "cell_type": "code",
   "execution_count": null,
   "metadata": {},
   "outputs": [],
   "source": [
    "from sklearn.manifold import TSNE"
   ]
  },
  {
   "cell_type": "code",
   "execution_count": null,
   "metadata": {},
   "outputs": [],
   "source": [
    "%%time\n",
    "tsne_docs = TSNE(perplexity=30).fit_transform(svd_docs)"
   ]
  },
  {
   "cell_type": "code",
   "execution_count": null,
   "metadata": {},
   "outputs": [],
   "source": [
    "svd_docs.shape"
   ]
  },
  {
   "cell_type": "code",
   "execution_count": null,
   "metadata": {},
   "outputs": [],
   "source": [
    "tsne_docs.shape"
   ]
  },
  {
   "cell_type": "code",
   "execution_count": null,
   "metadata": {},
   "outputs": [],
   "source": [
    "for c in np.unique(categories):\n",
    "    mask = categories == c\n",
    "    plt.scatter(tsne_docs[mask, 0], tsne_docs[mask, 1], label=c)\n",
    "\n",
    "plt.legend();"
   ]
  },
  {
   "cell_type": "code",
   "execution_count": null,
   "metadata": {},
   "outputs": [],
   "source": [
    "for topic in range(nmf_docs.shape[1]):\n",
    "    plt.figure()\n",
    "    rgba_colors[:, 3] = nmf_docs[:, topic] # alpha channel\n",
    "    plt.scatter(tsne_docs[:, 0], tsne_docs[:, 1], color=rgba_colors)\n",
    "    plt.title(f\"Topic #{topic}\")"
   ]
  },
  {
   "cell_type": "markdown",
   "metadata": {},
   "source": [
    "## Similarities in Truncated SVD Space (Latent Semantic Indexing)\n",
    "\n",
    "\n",
    "First let's compute similarities in the original TF-IDF high dimensional space as we did previously:"
   ]
  },
  {
   "cell_type": "code",
   "execution_count": null,
   "metadata": {},
   "outputs": [],
   "source": [
    "def sparse_dot_products(query_vector, other_vectors):\n",
    "    dot_products = query_vector.multiply(other_vectors).sum(axis=1)\n",
    "    return np.asarray(dot_products).ravel()"
   ]
  },
  {
   "cell_type": "code",
   "execution_count": null,
   "metadata": {},
   "outputs": [],
   "source": [
    "tfidf_first_doc = tfidf_docs[0, :]\n",
    "tfidf_other_docs = tfidf_docs[1:, :]\n",
    "tfidf_similarities = sparse_dot_products(tfidf_first_doc, tfidf_other_docs)\n",
    "len(tfidf_similarities)"
   ]
  },
  {
   "cell_type": "code",
   "execution_count": null,
   "metadata": {},
   "outputs": [],
   "source": [
    "import pandas as pd\n",
    "\n",
    "tfidf_most_similar = pd.DataFrame({\n",
    "    \"filepath\": text_filepaths[1:],\n",
    "    \"tfidf_similarity\": tfidf_similarities,\n",
    "}).nlargest(15, \"tfidf_similarity\")\n",
    "\n",
    "tfidf_most_similar"
   ]
  },
  {
   "cell_type": "code",
   "execution_count": null,
   "metadata": {},
   "outputs": [],
   "source": [
    "from sklearn.metrics.pairwise import cosine_similarity\n",
    "\n",
    "svd_first_doc = svd_docs[0:1, :]\n",
    "svd_other_docs = svd_docs[1:, :]\n",
    "svd_similarities = cosine_similarity(svd_first_doc, svd_other_docs).ravel()\n",
    "\n",
    "svd_most_similar = pd.DataFrame({\n",
    "    \"filepath\": text_filepaths[1:],\n",
    "    \"svd_similarity\": svd_similarities,\n",
    "}).nlargest(15, \"svd_similarity\")\n",
    "\n",
    "svd_most_similar"
   ]
  },
  {
   "cell_type": "markdown",
   "metadata": {},
   "source": [
    "As you can see the SVD space seems to preseve some of the neighboord structure of the original TF-IDF space.\n",
    "\n",
    "Let's try to quantify this using K-NN clasification in a cross-validation loop:"
   ]
  },
  {
   "cell_type": "code",
   "execution_count": null,
   "metadata": {},
   "outputs": [],
   "source": [
    "\n",
    "categories = [path.parent.name for path in text_filepaths]"
   ]
  },
  {
   "cell_type": "code",
   "execution_count": null,
   "metadata": {},
   "outputs": [],
   "source": [
    "from sklearn.neighbors import KNeighborsClassifier\n",
    "from sklearn.model_selection import cross_val_score"
   ]
  },
  {
   "cell_type": "code",
   "execution_count": null,
   "metadata": {},
   "outputs": [],
   "source": [
    "%%time\n",
    "cv_scores = cross_val_score(KNeighborsClassifier(n_neighbors=5, metric=\"cosine\"),\n",
    "                            tfidf_docs, categories, cv=10)\n",
    "print(f\"Val. accuracy: {cv_scores.mean():.3f} (+/-{cv_scores.std():.3f})\")"
   ]
  },
  {
   "cell_type": "code",
   "execution_count": null,
   "metadata": {},
   "outputs": [],
   "source": [
    "%%time\n",
    "cv_scores = cross_val_score(KNeighborsClassifier(n_neighbors=5, metric=\"cosine\"),\n",
    "                            svd_docs, categories, cv=10)\n",
    "print(f\"Val. accuracy: {cv_scores.mean():.3f} (+/-{cv_scores.std():.3f})\")"
   ]
  },
  {
   "cell_type": "markdown",
   "metadata": {},
   "source": [
    "Interestingly, using the 50 dimensional reduction dimensions of Truncated SVD both improves the computational speed and the generalization ability of the K-NN classification model.\n",
    "\n",
    "Using a SVD to reduce the dimension of Bag-of-Words text data so as to do cosine similarity queries is called [Latent Semantic Analysis](https://en.wikipedia.org/wiki/Latent_semantic_analysis)."
   ]
  },
  {
   "cell_type": "code",
   "execution_count": null,
   "metadata": {},
   "outputs": [],
   "source": []
  }
 ],
 "metadata": {
  "kernelspec": {
   "display_name": "python-3.7",
   "language": "python",
   "name": "python-3.7"
  },
  "language_info": {
   "codemirror_mode": {
    "name": "ipython",
    "version": 3
   },
   "file_extension": ".py",
   "mimetype": "text/x-python",
   "name": "python",
   "nbconvert_exporter": "python",
   "pygments_lexer": "ipython3",
   "version": "3.7.0"
  }
 },
 "nbformat": 4,
 "nbformat_minor": 2
}
